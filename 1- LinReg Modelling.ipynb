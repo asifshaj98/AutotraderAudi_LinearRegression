{
 "cells": [
  {
   "cell_type": "markdown",
   "source": [
    "# 1 - LinReg Modelling"
   ],
   "metadata": {
    "collapsed": false
   }
  },
  {
   "cell_type": "code",
   "execution_count": 1,
   "outputs": [],
   "source": [
    "import glob\n",
    "import pandas as pd\n",
    "import seaborn as sns\n",
    "import matplotlib.pyplot as plt\n",
    "from matplotlib import figure\n",
    "import numpy as np\n",
    "import re\n",
    "from sklearn.linear_model import LinearRegression\n",
    "from sklearn import metrics\n",
    "from sklearn.model_selection import train_test_split\n",
    "import statsmodels.api as sm\n",
    "import statsmodels.tools\n",
    "from statsmodels.stats.outliers_influence import variance_inflation_factor\n",
    "from sklearn.compose import ColumnTransformer\n",
    "from sklearn.preprocessing import StandardScaler\n",
    "import scipy as sp"
   ],
   "metadata": {
    "collapsed": false
   }
  },
  {
   "cell_type": "code",
   "execution_count": 2,
   "outputs": [],
   "source": [
    "df = pd.read_csv('Audi_combined_data.csv')"
   ],
   "metadata": {
    "collapsed": false
   }
  },
  {
   "cell_type": "code",
   "execution_count": 3,
   "outputs": [],
   "source": [
    "## Basic cleaning from \"0 - EDA\"\n",
    "df7 = df.copy()\n",
    "\n",
    "## Removing ULEZ column\n",
    "df7.drop(columns='ULEZ', inplace=True)\n",
    "## Dropping nulls in year, fuel, mileage, body, and transmission\n",
    "df7.dropna(subset=['year', 'fuel', 'mileage', 'body', 'transmission'], inplace=True)\n",
    "## Formatting rows\n",
    "df7[\"price\"] = df7[\"price\"].replace('[£,]', '', regex=True).astype(float) ## [£,] is needed to deal with elements such as £6,600\n",
    "df7['year'] = df7['year'].str.replace('\\s\\(.*\\)$', '' , regex=True).astype(int)"
   ],
   "metadata": {
    "collapsed": false
   }
  },
  {
   "cell_type": "code",
   "execution_count": 4,
   "outputs": [
    {
     "data": {
      "text/plain": "(20974, 12)"
     },
     "execution_count": 4,
     "metadata": {},
     "output_type": "execute_result"
    }
   ],
   "source": [
    "df7.shape"
   ],
   "metadata": {
    "collapsed": false
   }
  },
  {
   "cell_type": "code",
   "execution_count": 5,
   "outputs": [
    {
     "data": {
      "text/plain": "name             object\nlink             object\nprice           float64\nmileage         float64\nBHP             float64\ntransmission     object\nfuel             object\nowners          float64\nbody             object\nengine           object\nyear              int32\nfilename         object\ndtype: object"
     },
     "execution_count": 5,
     "metadata": {},
     "output_type": "execute_result"
    }
   ],
   "source": [
    "df7.dtypes"
   ],
   "metadata": {
    "collapsed": false
   }
  },
  {
   "cell_type": "markdown",
   "source": [
    "## Dealing with outliers"
   ],
   "metadata": {
    "collapsed": false
   }
  },
  {
   "cell_type": "code",
   "execution_count": 6,
   "outputs": [
    {
     "data": {
      "text/plain": "<Figure size 1440x360 with 1 Axes>",
      "image/png": "[encoded data removed]"
     },
     "metadata": {},
     "output_type": "display_data"
    }
   ],
   "source": [
    "plt.figure(figsize = (20, 5))\n",
    "sns.boxplot(data=df7['price'],\n",
    "            orient='h')\n",
    "plt.show()"
   ],
   "metadata": {
    "collapsed": false
   }
  },
  {
   "cell_type": "code",
   "execution_count": 7,
   "outputs": [
    {
     "data": {
      "text/plain": "<Figure size 1440x360 with 1 Axes>",
      "image/png": "[encoded data removed]"
     },
     "metadata": {},
     "output_type": "display_data"
    }
   ],
   "source": [
    "plt.figure(figsize = (20, 5))\n",
    "sns.boxplot(data=df7['BHP'],\n",
    "            orient='h')\n",
    "plt.show()"
   ],
   "metadata": {
    "collapsed": false
   }
  },
  {
   "cell_type": "code",
   "execution_count": 8,
   "outputs": [],
   "source": [
    "def iqr_cars(dataframe, column):\n",
    "    \"\"\"This function serves to calculate the interquartile range (IQR) of values within the given column of a dataframe\"\"\"\n",
    "    return dataframe[column].describe()['75%'] - dataframe[column].describe()['25%']"
   ],
   "metadata": {
    "collapsed": false
   }
  },
  {
   "cell_type": "code",
   "execution_count": 9,
   "outputs": [
    {
     "name": "stdout",
     "output_type": "stream",
     "text": [
      "(20974, 12)\n",
      "(3799, 12)\n"
     ]
    },
    {
     "data": {
      "text/plain": "name               0\nlink               0\nprice              0\nmileage            0\nBHP                0\ntransmission       0\nfuel               0\nowners          2456\nbody               0\nengine             1\nyear               0\nfilename           0\ndtype: int64"
     },
     "execution_count": 9,
     "metadata": {},
     "output_type": "execute_result"
    }
   ],
   "source": [
    "## Removing outliers for price and BHP, based on the IQR\n",
    "print(df7.shape) ## Shape before removing outliers\n",
    "df7 = df7.loc[( (df7['price'] < df7['price'].describe()['75%'] + 1.5 * iqr_cars(df7, 'price') )\n",
    "                | (df7['price'] < df7['price'].describe()['25%'] - 1.5 * iqr_cars(df7, 'price') ) )\n",
    "              & ( (df7['BHP'] < df7['BHP'].describe()['50%'] + 1.5 * iqr_cars(df7, 'BHP') )\n",
    "                | (df7['BHP'] < df7['BHP'].describe()['50%'] - 1.5 * iqr_cars(df7, 'BHP') ) ) ]\n",
    "print(df7.shape) ## Shape after removing outliers\n",
    "df7.isna().sum() ## Number of nulls in df7"
   ],
   "metadata": {
    "collapsed": false
   }
  },
  {
   "cell_type": "markdown",
   "source": [
    "Removing the row with an engine null"
   ],
   "metadata": {
    "collapsed": false
   }
  },
  {
   "cell_type": "code",
   "execution_count": 10,
   "outputs": [
    {
     "data": {
      "text/plain": "0"
     },
     "execution_count": 10,
     "metadata": {},
     "output_type": "execute_result"
    }
   ],
   "source": [
    "df7.dropna(subset=['engine'] ,inplace=True)\n",
    "df7.engine.isna().sum()"
   ],
   "metadata": {
    "collapsed": false
   }
  },
  {
   "cell_type": "markdown",
   "source": [
    "## Test/Train Split"
   ],
   "metadata": {
    "collapsed": false
   }
  },
  {
   "cell_type": "code",
   "execution_count": 11,
   "outputs": [],
   "source": [
    "X = df7.drop(columns=['name','link', 'price'])\n",
    "X = sm.add_constant(X) ## Adding a constant column for use in linear regression later\n",
    "y = df7['price']\n",
    "\n",
    "X_train, X_test, y_train, y_test = train_test_split(X, y, test_size = 0.2, random_state = 101)"
   ],
   "metadata": {
    "collapsed": false
   }
  },
  {
   "cell_type": "code",
   "execution_count": 12,
   "outputs": [
    {
     "name": "stdout",
     "output_type": "stream",
     "text": [
      "The length of X is 3798\n",
      "Shape of X_train: (3038, 10)\n",
      "Shape of X_test: (760, 10)\n",
      "Shape of y_train: (3038,)\n",
      "Shape of y_test: (760,)\n"
     ]
    }
   ],
   "source": [
    "print(f'The length of X is {len(X)}')\n",
    "print(f'Shape of X_train: {X_train.shape}')\n",
    "print(f'Shape of X_test: {X_test.shape}')\n",
    "print(f'Shape of y_train: {y_train.shape}')\n",
    "print(f'Shape of y_test: {y_test.shape}')"
   ],
   "metadata": {
    "collapsed": false
   }
  },
  {
   "cell_type": "markdown",
   "source": [
    "## Null handling"
   ],
   "metadata": {
    "collapsed": false
   }
  },
  {
   "cell_type": "markdown",
   "source": [
    "Checking the amount of nulls in our training data"
   ],
   "metadata": {
    "collapsed": false
   }
  },
  {
   "cell_type": "code",
   "execution_count": 13,
   "outputs": [
    {
     "data": {
      "text/plain": "const              0\nmileage            0\nBHP                0\ntransmission       0\nfuel               0\nowners          1990\nbody               0\nengine             0\nyear               0\nfilename           0\ndtype: int64"
     },
     "execution_count": 13,
     "metadata": {},
     "output_type": "execute_result"
    }
   ],
   "source": [
    "X_train.isna().sum()"
   ],
   "metadata": {
    "collapsed": false
   }
  },
  {
   "cell_type": "markdown",
   "source": [
    "### Owner nulls\n",
    "Having checked on the autotrader website, it can be safely assumed that cars with a null value for 'owners' have in fact had one previous owner. As such, we have filled in the null values for owners with the number 1."
   ],
   "metadata": {
    "collapsed": false
   }
  },
  {
   "cell_type": "code",
   "execution_count": 14,
   "outputs": [],
   "source": [
    "X_train['owners'].fillna(value=1, inplace=True)\n",
    "X_train['owners'] = X_train['owners'].astype(int) ## Converting the number of previous owners to an integer."
   ],
   "metadata": {
    "collapsed": false
   }
  },
  {
   "cell_type": "code",
   "execution_count": 15,
   "outputs": [
    {
     "data": {
      "text/plain": "0"
     },
     "execution_count": 15,
     "metadata": {},
     "output_type": "execute_result"
    }
   ],
   "source": [
    "X_train.owners.isna().sum() ## No more nulls in 'owners'"
   ],
   "metadata": {
    "collapsed": false
   }
  },
  {
   "cell_type": "markdown",
   "source": [
    "### Engine formatting"
   ],
   "metadata": {
    "collapsed": false
   }
  },
  {
   "cell_type": "code",
   "execution_count": 16,
   "outputs": [
    {
     "data": {
      "text/plain": "2.0    1650\n1.4     404\n1.0     276\n1.6     244\n1.5     211\n1.8     103\n3.0      78\n1.9      26\n2.7      25\n1.2      19\n2.5       1\n2.4       1\nName: engine, dtype: int64"
     },
     "execution_count": 16,
     "metadata": {},
     "output_type": "execute_result"
    }
   ],
   "source": [
    "## Formatting engine\n",
    "X_train['engine'] = X_train[\"engine\"].replace('L', '', regex=True).astype(float) ## Removing the L from engine and turning the column into a float\n",
    "X_train['engine'].value_counts() ## Seeing the different values for engine"
   ],
   "metadata": {
    "collapsed": false
   }
  },
  {
   "cell_type": "markdown",
   "source": [
    "## New columns"
   ],
   "metadata": {
    "collapsed": false
   }
  },
  {
   "cell_type": "code",
   "execution_count": 17,
   "outputs": [
    {
     "data": {
      "text/plain": "<Figure size 432x288 with 1 Axes>",
      "image/png": "[encoded data removed]"
     },
     "metadata": {},
     "output_type": "display_data"
    }
   ],
   "source": [
    "## Scatterplot showing the relationship of mileage with price in df7\n",
    "sns.scatterplot(x='mileage',\n",
    "                y='price',\n",
    "                data = df7)\n",
    "plt.show()"
   ],
   "metadata": {
    "collapsed": false
   }
  },
  {
   "cell_type": "code",
   "execution_count": 18,
   "outputs": [
    {
     "data": {
      "text/plain": "<Figure size 432x288 with 1 Axes>",
      "image/png": "[encoded data removed]"
     },
     "metadata": {},
     "output_type": "display_data"
    }
   ],
   "source": [
    "## Scatterplot showing the relationship of owners with price in df7\n",
    "sns.scatterplot(x='owners',\n",
    "                y='price',\n",
    "                data = df7)\n",
    "plt.show()"
   ],
   "metadata": {
    "collapsed": false
   }
  },
  {
   "cell_type": "markdown",
   "source": [
    "In both of the plots above, there is a vaguely exponential relationship. As such, we have decided to add two new columns which take the logarithm of mileage and owners"
   ],
   "metadata": {
    "collapsed": false
   }
  },
  {
   "cell_type": "code",
   "execution_count": 19,
   "outputs": [],
   "source": [
    "## New columns\n",
    "X_train['log_mileage'] = np.log(X_train['mileage'])\n",
    "X_train['log_owners'] = np.log(X_train['owners'])"
   ],
   "metadata": {
    "collapsed": false
   }
  },
  {
   "cell_type": "markdown",
   "source": [
    "## One-hot encoding\n",
    "The remaining categorical columns of 'transmission', 'fuel', and 'body' can all be one-hot encoded."
   ],
   "metadata": {
    "collapsed": false
   }
  },
  {
   "cell_type": "code",
   "execution_count": 20,
   "outputs": [],
   "source": [
    "## One-hot encoding\n",
    "# Transmission\n",
    "X_train = pd.get_dummies(X_train, columns = ['transmission'], drop_first = False, prefix = 'gear_type')\n",
    "# fuel\n",
    "X_train = pd.get_dummies(X_train, columns = ['fuel'], drop_first = False, prefix = 'fuel_type')\n",
    "# body\n",
    "X_train = pd.get_dummies(X_train, columns = ['body'], drop_first = False, prefix = 'body_type')"
   ],
   "metadata": {
    "collapsed": false
   }
  },
  {
   "cell_type": "code",
   "execution_count": 21,
   "outputs": [
    {
     "data": {
      "text/plain": "       const   mileage    BHP  owners  engine  year  \\\n14137    1.0   34000.0  148.0       1     1.4  2018   \n11699    1.0  108000.0  204.0       1     3.0  2012   \n15513    1.0   54000.0  148.0       1     2.0  2015   \n2506     1.0   42000.0   94.0       1     1.0  2020   \n7922     1.0   15535.0  148.0       1     2.0  2020   \n\n                           filename  log_mileage  log_owners  \\\n14137        ./Datasets\\Audi_Q2.txt    10.434116         0.0   \n11699  ./Datasets\\Audi_A6 Avant.txt    11.589887         0.0   \n15513        ./Datasets\\Audi_Q3.txt    10.896739         0.0   \n2506         ./Datasets\\Audi_A1.txt    10.645425         0.0   \n7922   ./Datasets\\Audi_A4 Avant.txt     9.650851         0.0   \n\n       gear_type_Automatic  gear_type_Manual  fuel_type_Diesel  \\\n14137                    1                 0                 0   \n11699                    1                 0                 1   \n15513                    0                 1                 1   \n2506                     1                 0                 0   \n7922                     1                 0                 0   \n\n       fuel_type_Petrol  fuel_type_Petrol Plug-in Hybrid  \\\n14137                 1                                0   \n11699                 0                                0   \n15513                 0                                0   \n2506                  1                                0   \n7922                  1                                0   \n\n       body_type_Convertible  body_type_Coupe  body_type_Estate  \\\n14137                      0                0                 0   \n11699                      0                0                 1   \n15513                      0                0                 0   \n2506                       0                0                 0   \n7922                       0                0                 1   \n\n       body_type_Hatchback  body_type_SUV  body_type_Saloon  \n14137                    0              1                 0  \n11699                    0              0                 0  \n15513                    0              1                 0  \n2506                     1              0                 0  \n7922                     0              0                 0  ",
      "text/html": "<div>\n<style scoped>\n    .dataframe tbody tr th:only-of-type {\n        vertical-align: middle;\n    }\n\n    .dataframe tbody tr th {\n        vertical-align: top;\n    }\n\n    .dataframe thead th {\n        text-align: right;\n    }\n</style>\n<table border=\"1\" class=\"dataframe\">\n  <thead>\n    <tr style=\"text-align: right;\">\n      <th></th>\n      <th>const</th>\n      <th>mileage</th>\n      <th>BHP</th>\n      <th>owners</th>\n      <th>engine</th>\n      <th>year</th>\n      <th>filename</th>\n      <th>log_mileage</th>\n      <th>log_owners</th>\n      <th>gear_type_Automatic</th>\n      <th>gear_type_Manual</th>\n      <th>fuel_type_Diesel</th>\n      <th>fuel_type_Petrol</th>\n      <th>fuel_type_Petrol Plug-in Hybrid</th>\n      <th>body_type_Convertible</th>\n      <th>body_type_Coupe</th>\n      <th>body_type_Estate</th>\n      <th>body_type_Hatchback</th>\n      <th>body_type_SUV</th>\n      <th>body_type_Saloon</th>\n    </tr>\n  </thead>\n  <tbody>\n    <tr>\n      <th>14137</th>\n      <td>1.0</td>\n      <td>34000.0</td>\n      <td>148.0</td>\n      <td>1</td>\n      <td>1.4</td>\n      <td>2018</td>\n      <td>./Datasets\\Audi_Q2.txt</td>\n      <td>10.434116</td>\n      <td>0.0</td>\n      <td>1</td>\n      <td>0</td>\n      <td>0</td>\n      <td>1</td>\n      <td>0</td>\n      <td>0</td>\n      <td>0</td>\n      <td>0</td>\n      <td>0</td>\n      <td>1</td>\n      <td>0</td>\n    </tr>\n    <tr>\n      <th>11699</th>\n      <td>1.0</td>\n      <td>108000.0</td>\n      <td>204.0</td>\n      <td>1</td>\n      <td>3.0</td>\n      <td>2012</td>\n      <td>./Datasets\\Audi_A6 Avant.txt</td>\n      <td>11.589887</td>\n      <td>0.0</td>\n      <td>1</td>\n      <td>0</td>\n      <td>1</td>\n      <td>0</td>\n      <td>0</td>\n      <td>0</td>\n      <td>0</td>\n      <td>1</td>\n      <td>0</td>\n      <td>0</td>\n      <td>0</td>\n    </tr>\n    <tr>\n      <th>15513</th>\n      <td>1.0</td>\n      <td>54000.0</td>\n      <td>148.0</td>\n      <td>1</td>\n      <td>2.0</td>\n      <td>2015</td>\n      <td>./Datasets\\Audi_Q3.txt</td>\n      <td>10.896739</td>\n      <td>0.0</td>\n      <td>0</td>\n      <td>1</td>\n      <td>1</td>\n      <td>0</td>\n      <td>0</td>\n      <td>0</td>\n      <td>0</td>\n      <td>0</td>\n      <td>0</td>\n      <td>1</td>\n      <td>0</td>\n    </tr>\n    <tr>\n      <th>2506</th>\n      <td>1.0</td>\n      <td>42000.0</td>\n      <td>94.0</td>\n      <td>1</td>\n      <td>1.0</td>\n      <td>2020</td>\n      <td>./Datasets\\Audi_A1.txt</td>\n      <td>10.645425</td>\n      <td>0.0</td>\n      <td>1</td>\n      <td>0</td>\n      <td>0</td>\n      <td>1</td>\n      <td>0</td>\n      <td>0</td>\n      <td>0</td>\n      <td>0</td>\n      <td>1</td>\n      <td>0</td>\n      <td>0</td>\n    </tr>\n    <tr>\n      <th>7922</th>\n      <td>1.0</td>\n      <td>15535.0</td>\n      <td>148.0</td>\n      <td>1</td>\n      <td>2.0</td>\n      <td>2020</td>\n      <td>./Datasets\\Audi_A4 Avant.txt</td>\n      <td>9.650851</td>\n      <td>0.0</td>\n      <td>1</td>\n      <td>0</td>\n      <td>0</td>\n      <td>1</td>\n      <td>0</td>\n      <td>0</td>\n      <td>0</td>\n      <td>1</td>\n      <td>0</td>\n      <td>0</td>\n      <td>0</td>\n    </tr>\n  </tbody>\n</table>\n</div>"
     },
     "execution_count": 21,
     "metadata": {},
     "output_type": "execute_result"
    }
   ],
   "source": [
    "X_train.head() ## Checking the dataframe"
   ],
   "metadata": {
    "collapsed": false
   }
  },
  {
   "cell_type": "code",
   "execution_count": 22,
   "outputs": [
    {
     "data": {
      "text/plain": "const                              float64\nmileage                            float64\nBHP                                float64\nowners                               int32\nengine                             float64\nyear                                 int32\nfilename                            object\nlog_mileage                        float64\nlog_owners                         float64\ngear_type_Automatic                  uint8\ngear_type_Manual                     uint8\nfuel_type_Diesel                     uint8\nfuel_type_Petrol                     uint8\nfuel_type_Petrol Plug-in Hybrid      uint8\nbody_type_Convertible                uint8\nbody_type_Coupe                      uint8\nbody_type_Estate                     uint8\nbody_type_Hatchback                  uint8\nbody_type_SUV                        uint8\nbody_type_Saloon                     uint8\ndtype: object"
     },
     "execution_count": 22,
     "metadata": {},
     "output_type": "execute_result"
    }
   ],
   "source": [
    "X_train.dtypes ## Checking the dtypes are all in good order"
   ],
   "metadata": {
    "collapsed": false
   }
  },
  {
   "cell_type": "code",
   "execution_count": 23,
   "outputs": [
    {
     "data": {
      "text/plain": "Index(['const', 'mileage', 'BHP', 'owners', 'engine', 'year', 'filename',\n       'log_mileage', 'log_owners', 'gear_type_Automatic', 'gear_type_Manual',\n       'fuel_type_Diesel', 'fuel_type_Petrol',\n       'fuel_type_Petrol Plug-in Hybrid', 'body_type_Convertible',\n       'body_type_Coupe', 'body_type_Estate', 'body_type_Hatchback',\n       'body_type_SUV', 'body_type_Saloon'],\n      dtype='object')"
     },
     "execution_count": 23,
     "metadata": {},
     "output_type": "execute_result"
    }
   ],
   "source": [
    "X_train.columns ## Columns for X_train"
   ],
   "metadata": {
    "collapsed": false
   }
  },
  {
   "cell_type": "markdown",
   "source": [
    "## Linear regression modelling (i)\n",
    "#### Training"
   ],
   "metadata": {
    "collapsed": false
   }
  },
  {
   "cell_type": "markdown",
   "source": [
    "Firstly, let's test a linear regression model with all of our feature columns."
   ],
   "metadata": {
    "collapsed": false
   }
  },
  {
   "cell_type": "code",
   "execution_count": 24,
   "outputs": [],
   "source": [
    "## Now that it is no longer relevant, let's drop the filename column\n",
    "X_train.drop(columns=['filename'], inplace=True)"
   ],
   "metadata": {
    "collapsed": false
   }
  },
  {
   "cell_type": "code",
   "execution_count": 25,
   "outputs": [
    {
     "data": {
      "text/plain": "(3038,)"
     },
     "execution_count": 25,
     "metadata": {},
     "output_type": "execute_result"
    }
   ],
   "source": [
    "y_train.shape"
   ],
   "metadata": {
    "collapsed": false
   }
  },
  {
   "cell_type": "code",
   "execution_count": 26,
   "outputs": [
    {
     "data": {
      "text/plain": "(3038, 19)"
     },
     "execution_count": 26,
     "metadata": {},
     "output_type": "execute_result"
    }
   ],
   "source": [
    "X_train.shape"
   ],
   "metadata": {
    "collapsed": false
   }
  },
  {
   "cell_type": "code",
   "execution_count": 27,
   "outputs": [
    {
     "data": {
      "text/plain": "<class 'statsmodels.iolib.summary.Summary'>\n\"\"\"\n                            OLS Regression Results                            \n==============================================================================\nDep. Variable:                  price   R-squared:                       0.894\nModel:                            OLS   Adj. R-squared:                  0.893\nMethod:                 Least Squares   F-statistic:                     1698.\nDate:                Thu, 09 Feb 2023   Prob (F-statistic):               0.00\nTime:                        10:29:30   Log-Likelihood:                -27934.\nNo. Observations:                3038   AIC:                         5.590e+04\nDf Residuals:                    3022   BIC:                         5.600e+04\nDf Model:                          15                                         \nCovariance Type:            nonrobust                                         \n===================================================================================================\n                                      coef    std err          t      P>|t|      [0.025      0.975]\n---------------------------------------------------------------------------------------------------\nconst                           -1.124e+06   1.82e+04    -61.698      0.000   -1.16e+06   -1.09e+06\nmileage                            -0.0162      0.003     -4.733      0.000      -0.023      -0.010\nBHP                                41.4016      2.360     17.545      0.000      36.775      46.028\nowners                            170.7518    137.169      1.245      0.213     -98.203     439.706\nengine                           1572.4437    241.354      6.515      0.000    1099.209    2045.678\nyear                             1133.5430     17.939     63.189      0.000    1098.369    1168.717\nlog_mileage                     -2793.1221    162.932    -17.143      0.000   -3112.592   -2473.652\nlog_owners                       -341.6415    292.693     -1.167      0.243    -915.540     232.257\ngear_type_Automatic             -5.609e+05   9113.269    -61.546      0.000   -5.79e+05   -5.43e+05\ngear_type_Manual                -5.628e+05   9098.761    -61.849      0.000   -5.81e+05   -5.45e+05\nfuel_type_Diesel                -3.747e+05   6092.418    -61.510      0.000   -3.87e+05   -3.63e+05\nfuel_type_Petrol                -3.747e+05   6062.761    -61.807      0.000   -3.87e+05   -3.63e+05\nfuel_type_Petrol Plug-in Hybrid -3.742e+05   6076.530    -61.576      0.000   -3.86e+05   -3.62e+05\nbody_type_Convertible            -1.88e+05   3010.272    -62.438      0.000   -1.94e+05   -1.82e+05\nbody_type_Coupe                 -1.881e+05   3040.046    -61.889      0.000   -1.94e+05   -1.82e+05\nbody_type_Estate                -1.869e+05   3052.161    -61.224      0.000   -1.93e+05   -1.81e+05\nbody_type_Hatchback             -1.878e+05   3037.886    -61.817      0.000   -1.94e+05   -1.82e+05\nbody_type_SUV                   -1.853e+05   3050.627    -60.741      0.000   -1.91e+05   -1.79e+05\nbody_type_Saloon                -1.876e+05   3048.697    -61.526      0.000   -1.94e+05   -1.82e+05\n==============================================================================\nOmnibus:                      653.553   Durbin-Watson:                   1.999\nProb(Omnibus):                  0.000   Jarque-Bera (JB):             3084.316\nSkew:                           0.955   Prob(JB):                         0.00\nKurtosis:                       7.552   Cond. No.                     4.04e+20\n==============================================================================\n\nNotes:\n[1] Standard Errors assume that the covariance matrix of the errors is correctly specified.\n[2] The smallest eigenvalue is 8.64e-29. This might indicate that there are\nstrong multicollinearity problems or that the design matrix is singular.\n\"\"\"",
      "text/html": "<table class=\"simpletable\">\n<caption>OLS Regression Results</caption>\n<tr>\n  <th>Dep. Variable:</th>          <td>price</td>      <th>  R-squared:         </th> <td>   0.894</td> \n</tr>\n<tr>\n  <th>Model:</th>                   <td>OLS</td>       <th>  Adj. R-squared:    </th> <td>   0.893</td> \n</tr>\n<tr>\n  <th>Method:</th>             <td>Least Squares</td>  <th>  F-statistic:       </th> <td>   1698.</td> \n</tr>\n<tr>\n  <th>Date:</th>             <td>Thu, 09 Feb 2023</td> <th>  Prob (F-statistic):</th>  <td>  0.00</td>  \n</tr>\n<tr>\n  <th>Time:</th>                 <td>10:29:30</td>     <th>  Log-Likelihood:    </th> <td> -27934.</td> \n</tr>\n<tr>\n  <th>No. Observations:</th>      <td>  3038</td>      <th>  AIC:               </th> <td>5.590e+04</td>\n</tr>\n<tr>\n  <th>Df Residuals:</th>          <td>  3022</td>      <th>  BIC:               </th> <td>5.600e+04</td>\n</tr>\n<tr>\n  <th>Df Model:</th>              <td>    15</td>      <th>                     </th>     <td> </td>    \n</tr>\n<tr>\n  <th>Covariance Type:</th>      <td>nonrobust</td>    <th>                     </th>     <td> </td>    \n</tr>\n</table>\n<table class=\"simpletable\">\n<tr>\n                 <td></td>                    <th>coef</th>     <th>std err</th>      <th>t</th>      <th>P>|t|</th>  <th>[0.025</th>    <th>0.975]</th>  \n</tr>\n<tr>\n  <th>const</th>                           <td>-1.124e+06</td> <td> 1.82e+04</td> <td>  -61.698</td> <td> 0.000</td> <td>-1.16e+06</td> <td>-1.09e+06</td>\n</tr>\n<tr>\n  <th>mileage</th>                         <td>   -0.0162</td> <td>    0.003</td> <td>   -4.733</td> <td> 0.000</td> <td>   -0.023</td> <td>   -0.010</td>\n</tr>\n<tr>\n  <th>BHP</th>                             <td>   41.4016</td> <td>    2.360</td> <td>   17.545</td> <td> 0.000</td> <td>   36.775</td> <td>   46.028</td>\n</tr>\n<tr>\n  <th>owners</th>                          <td>  170.7518</td> <td>  137.169</td> <td>    1.245</td> <td> 0.213</td> <td>  -98.203</td> <td>  439.706</td>\n</tr>\n<tr>\n  <th>engine</th>                          <td> 1572.4437</td> <td>  241.354</td> <td>    6.515</td> <td> 0.000</td> <td> 1099.209</td> <td> 2045.678</td>\n</tr>\n<tr>\n  <th>year</th>                            <td> 1133.5430</td> <td>   17.939</td> <td>   63.189</td> <td> 0.000</td> <td> 1098.369</td> <td> 1168.717</td>\n</tr>\n<tr>\n  <th>log_mileage</th>                     <td>-2793.1221</td> <td>  162.932</td> <td>  -17.143</td> <td> 0.000</td> <td>-3112.592</td> <td>-2473.652</td>\n</tr>\n<tr>\n  <th>log_owners</th>                      <td> -341.6415</td> <td>  292.693</td> <td>   -1.167</td> <td> 0.243</td> <td> -915.540</td> <td>  232.257</td>\n</tr>\n<tr>\n  <th>gear_type_Automatic</th>             <td>-5.609e+05</td> <td> 9113.269</td> <td>  -61.546</td> <td> 0.000</td> <td>-5.79e+05</td> <td>-5.43e+05</td>\n</tr>\n<tr>\n  <th>gear_type_Manual</th>                <td>-5.628e+05</td> <td> 9098.761</td> <td>  -61.849</td> <td> 0.000</td> <td>-5.81e+05</td> <td>-5.45e+05</td>\n</tr>\n<tr>\n  <th>fuel_type_Diesel</th>                <td>-3.747e+05</td> <td> 6092.418</td> <td>  -61.510</td> <td> 0.000</td> <td>-3.87e+05</td> <td>-3.63e+05</td>\n</tr>\n<tr>\n  <th>fuel_type_Petrol</th>                <td>-3.747e+05</td> <td> 6062.761</td> <td>  -61.807</td> <td> 0.000</td> <td>-3.87e+05</td> <td>-3.63e+05</td>\n</tr>\n<tr>\n  <th>fuel_type_Petrol Plug-in Hybrid</th> <td>-3.742e+05</td> <td> 6076.530</td> <td>  -61.576</td> <td> 0.000</td> <td>-3.86e+05</td> <td>-3.62e+05</td>\n</tr>\n<tr>\n  <th>body_type_Convertible</th>           <td> -1.88e+05</td> <td> 3010.272</td> <td>  -62.438</td> <td> 0.000</td> <td>-1.94e+05</td> <td>-1.82e+05</td>\n</tr>\n<tr>\n  <th>body_type_Coupe</th>                 <td>-1.881e+05</td> <td> 3040.046</td> <td>  -61.889</td> <td> 0.000</td> <td>-1.94e+05</td> <td>-1.82e+05</td>\n</tr>\n<tr>\n  <th>body_type_Estate</th>                <td>-1.869e+05</td> <td> 3052.161</td> <td>  -61.224</td> <td> 0.000</td> <td>-1.93e+05</td> <td>-1.81e+05</td>\n</tr>\n<tr>\n  <th>body_type_Hatchback</th>             <td>-1.878e+05</td> <td> 3037.886</td> <td>  -61.817</td> <td> 0.000</td> <td>-1.94e+05</td> <td>-1.82e+05</td>\n</tr>\n<tr>\n  <th>body_type_SUV</th>                   <td>-1.853e+05</td> <td> 3050.627</td> <td>  -60.741</td> <td> 0.000</td> <td>-1.91e+05</td> <td>-1.79e+05</td>\n</tr>\n<tr>\n  <th>body_type_Saloon</th>                <td>-1.876e+05</td> <td> 3048.697</td> <td>  -61.526</td> <td> 0.000</td> <td>-1.94e+05</td> <td>-1.82e+05</td>\n</tr>\n</table>\n<table class=\"simpletable\">\n<tr>\n  <th>Omnibus:</th>       <td>653.553</td> <th>  Durbin-Watson:     </th> <td>   1.999</td>\n</tr>\n<tr>\n  <th>Prob(Omnibus):</th> <td> 0.000</td>  <th>  Jarque-Bera (JB):  </th> <td>3084.316</td>\n</tr>\n<tr>\n  <th>Skew:</th>          <td> 0.955</td>  <th>  Prob(JB):          </th> <td>    0.00</td>\n</tr>\n<tr>\n  <th>Kurtosis:</th>      <td> 7.552</td>  <th>  Cond. No.          </th> <td>4.04e+20</td>\n</tr>\n</table><br/><br/>Notes:<br/>[1] Standard Errors assume that the covariance matrix of the errors is correctly specified.<br/>[2] The smallest eigenvalue is 8.64e-29. This might indicate that there are<br/>strong multicollinearity problems or that the design matrix is singular."
     },
     "execution_count": 27,
     "metadata": {},
     "output_type": "execute_result"
    }
   ],
   "source": [
    "feature_cols = list(X_train.columns)\n",
    "\n",
    "lin_reg = sm.OLS(y_train, X_train[feature_cols]) ## Why is there an error here?! Drastic measure: remove the engine null earlier\n",
    "results = lin_reg.fit()\n",
    "results.summary()"
   ],
   "metadata": {
    "collapsed": false
   }
  },
  {
   "cell_type": "code",
   "execution_count": 28,
   "outputs": [
    {
     "name": "stdout",
     "output_type": "stream",
     "text": [
      "the RMSE is 2382.7364652851106\n",
      "const                             -1.123632e+06\n",
      "mileage                           -1.624791e-02\n",
      "BHP                                4.140159e+01\n",
      "owners                             1.707518e+02\n",
      "engine                             1.572444e+03\n",
      "year                               1.133543e+03\n",
      "log_mileage                       -2.793122e+03\n",
      "log_owners                        -3.416415e+02\n",
      "gear_type_Automatic               -5.608818e+05\n",
      "gear_type_Manual                  -5.627503e+05\n",
      "fuel_type_Diesel                  -3.747416e+05\n",
      "fuel_type_Petrol                  -3.747203e+05\n",
      "fuel_type_Petrol Plug-in Hybrid   -3.741702e+05\n",
      "body_type_Convertible             -1.879557e+05\n",
      "body_type_Coupe                   -1.881444e+05\n",
      "body_type_Estate                  -1.868651e+05\n",
      "body_type_Hatchback               -1.877934e+05\n",
      "body_type_SUV                     -1.852996e+05\n",
      "body_type_Saloon                  -1.875739e+05\n",
      "dtype: float64\n"
     ]
    }
   ],
   "source": [
    "X_train['price_pred'] = results.predict(X_train[feature_cols])\n",
    "rmse = statsmodels.tools.eval_measures.rmse(y_train, X_train['price_pred'])\n",
    "print(f'the RMSE is {rmse}')\n",
    "print(results.params)"
   ],
   "metadata": {
    "collapsed": false
   }
  },
  {
   "cell_type": "markdown",
   "source": [
    "Using all our feature columns, we get a base RMSE of 2382, and R^2 of 0.894.\n",
    "\n",
    "Now let's look at using columns according to their variance inflation factor, or through stepwise selection."
   ],
   "metadata": {
    "collapsed": false
   }
  },
  {
   "cell_type": "code",
   "execution_count": 29,
   "outputs": [],
   "source": [
    "## \"Lisa's code\", taken from stat.statexchange.com\n",
    "\n",
    "def calculate_vif(X, thresh = 5.0):\n",
    "    variables = list(range(X.shape[1]))\n",
    "    dropped = True\n",
    "    while dropped:\n",
    "        dropped = False\n",
    "        # this bit uses list comprehension to gather all the VIF values of the different variables\n",
    "        vif = [variance_inflation_factor(X.iloc[:, variables].values, ix)\n",
    "               for ix in range(X.iloc[:, variables].shape[1])]\n",
    "\n",
    "        maxloc = vif.index(max(vif)) # getting the index of the highest VIF value\n",
    "        if max(vif) > thresh:\n",
    "            print('dropping \\'' + X.iloc[:, variables].columns[maxloc] +\n",
    "                  '\\' at index: ' + str(maxloc))\n",
    "            del variables[maxloc] # we delete the highest VIF value on condition that it's higher than the threshold\n",
    "            dropped = True # if we deleted anything, we set the 'dropped' value to True to stay in the while loop\n",
    "\n",
    "    print('Remaining variables:')\n",
    "    print(X.columns[variables]) # finally, we print the variables that are still in our set\n",
    "    return X.iloc[:, variables] # and return our X cut down to the remaining variables"
   ],
   "metadata": {
    "collapsed": false
   }
  },
  {
   "cell_type": "code",
   "execution_count": 30,
   "outputs": [
    {
     "name": "stderr",
     "output_type": "stream",
     "text": [
      "C:\\Users\\Isaac\\anaconda3\\lib\\site-packages\\statsmodels\\regression\\linear_model.py:1736: RuntimeWarning: divide by zero encountered in double_scalars\n",
      "  return 1 - self.ssr/self.centered_tss\n",
      "C:\\Users\\Isaac\\anaconda3\\lib\\site-packages\\statsmodels\\stats\\outliers_influence.py:195: RuntimeWarning: divide by zero encountered in double_scalars\n",
      "  vif = 1. / (1. - r_squared_i)\n"
     ]
    },
    {
     "name": "stdout",
     "output_type": "stream",
     "text": [
      "dropping 'gear_type_Automatic' at index: 8\n",
      "dropping 'fuel_type_Diesel' at index: 9\n",
      "dropping 'body_type_Convertible' at index: 11\n",
      "dropping 'const' at index: 0\n",
      "dropping 'log_mileage' at index: 5\n",
      "dropping 'year' at index: 4\n",
      "dropping 'engine' at index: 3\n",
      "dropping 'owners' at index: 2\n",
      "dropping 'BHP' at index: 1\n",
      "Remaining variables:\n",
      "Index(['mileage', 'log_owners', 'gear_type_Manual', 'fuel_type_Petrol',\n",
      "       'fuel_type_Petrol Plug-in Hybrid', 'body_type_Coupe',\n",
      "       'body_type_Estate', 'body_type_Hatchback', 'body_type_SUV',\n",
      "       'body_type_Saloon'],\n",
      "      dtype='object')\n"
     ]
    },
    {
     "data": {
      "text/plain": "        mileage  log_owners  gear_type_Manual  fuel_type_Petrol  \\\n14137   34000.0    0.000000                 0                 1   \n11699  108000.0    0.000000                 0                 0   \n15513   54000.0    0.000000                 1                 0   \n2506    42000.0    0.000000                 0                 1   \n7922    15535.0    0.000000                 0                 1   \n...         ...         ...               ...               ...   \n3094   153938.0    0.000000                 1                 0   \n7783    37000.0    0.693147                 0                 1   \n6715    10000.0    0.000000                 1                 1   \n7596    72981.0    0.693147                 0                 0   \n4351    61000.0    0.000000                 0                 0   \n\n       fuel_type_Petrol Plug-in Hybrid  body_type_Coupe  body_type_Estate  \\\n14137                                0                0                 0   \n11699                                0                0                 1   \n15513                                0                0                 0   \n2506                                 0                0                 0   \n7922                                 0                0                 1   \n...                                ...              ...               ...   \n3094                                 0                0                 0   \n7783                                 0                0                 1   \n6715                                 0                0                 0   \n7596                                 0                0                 1   \n4351                                 1                0                 0   \n\n       body_type_Hatchback  body_type_SUV  body_type_Saloon  \n14137                    0              1                 0  \n11699                    0              0                 0  \n15513                    0              1                 0  \n2506                     1              0                 0  \n7922                     0              0                 0  \n...                    ...            ...               ...  \n3094                     1              0                 0  \n7783                     0              0                 0  \n6715                     1              0                 0  \n7596                     0              0                 0  \n4351                     1              0                 0  \n\n[3038 rows x 10 columns]",
      "text/html": "<div>\n<style scoped>\n    .dataframe tbody tr th:only-of-type {\n        vertical-align: middle;\n    }\n\n    .dataframe tbody tr th {\n        vertical-align: top;\n    }\n\n    .dataframe thead th {\n        text-align: right;\n    }\n</style>\n<table border=\"1\" class=\"dataframe\">\n  <thead>\n    <tr style=\"text-align: right;\">\n      <th></th>\n      <th>mileage</th>\n      <th>log_owners</th>\n      <th>gear_type_Manual</th>\n      <th>fuel_type_Petrol</th>\n      <th>fuel_type_Petrol Plug-in Hybrid</th>\n      <th>body_type_Coupe</th>\n      <th>body_type_Estate</th>\n      <th>body_type_Hatchback</th>\n      <th>body_type_SUV</th>\n      <th>body_type_Saloon</th>\n    </tr>\n  </thead>\n  <tbody>\n    <tr>\n      <th>14137</th>\n      <td>34000.0</td>\n      <td>0.000000</td>\n      <td>0</td>\n      <td>1</td>\n      <td>0</td>\n      <td>0</td>\n      <td>0</td>\n      <td>0</td>\n      <td>1</td>\n      <td>0</td>\n    </tr>\n    <tr>\n      <th>11699</th>\n      <td>108000.0</td>\n      <td>0.000000</td>\n      <td>0</td>\n      <td>0</td>\n      <td>0</td>\n      <td>0</td>\n      <td>1</td>\n      <td>0</td>\n      <td>0</td>\n      <td>0</td>\n    </tr>\n    <tr>\n      <th>15513</th>\n      <td>54000.0</td>\n      <td>0.000000</td>\n      <td>1</td>\n      <td>0</td>\n      <td>0</td>\n      <td>0</td>\n      <td>0</td>\n      <td>0</td>\n      <td>1</td>\n      <td>0</td>\n    </tr>\n    <tr>\n      <th>2506</th>\n      <td>42000.0</td>\n      <td>0.000000</td>\n      <td>0</td>\n      <td>1</td>\n      <td>0</td>\n      <td>0</td>\n      <td>0</td>\n      <td>1</td>\n      <td>0</td>\n      <td>0</td>\n    </tr>\n    <tr>\n      <th>7922</th>\n      <td>15535.0</td>\n      <td>0.000000</td>\n      <td>0</td>\n      <td>1</td>\n      <td>0</td>\n      <td>0</td>\n      <td>1</td>\n      <td>0</td>\n      <td>0</td>\n      <td>0</td>\n    </tr>\n    <tr>\n      <th>...</th>\n      <td>...</td>\n      <td>...</td>\n      <td>...</td>\n      <td>...</td>\n      <td>...</td>\n      <td>...</td>\n      <td>...</td>\n      <td>...</td>\n      <td>...</td>\n      <td>...</td>\n    </tr>\n    <tr>\n      <th>3094</th>\n      <td>153938.0</td>\n      <td>0.000000</td>\n      <td>1</td>\n      <td>0</td>\n      <td>0</td>\n      <td>0</td>\n      <td>0</td>\n      <td>1</td>\n      <td>0</td>\n      <td>0</td>\n    </tr>\n    <tr>\n      <th>7783</th>\n      <td>37000.0</td>\n      <td>0.693147</td>\n      <td>0</td>\n      <td>1</td>\n      <td>0</td>\n      <td>0</td>\n      <td>1</td>\n      <td>0</td>\n      <td>0</td>\n      <td>0</td>\n    </tr>\n    <tr>\n      <th>6715</th>\n      <td>10000.0</td>\n      <td>0.000000</td>\n      <td>1</td>\n      <td>1</td>\n      <td>0</td>\n      <td>0</td>\n      <td>0</td>\n      <td>1</td>\n      <td>0</td>\n      <td>0</td>\n    </tr>\n    <tr>\n      <th>7596</th>\n      <td>72981.0</td>\n      <td>0.693147</td>\n      <td>0</td>\n      <td>0</td>\n      <td>0</td>\n      <td>0</td>\n      <td>1</td>\n      <td>0</td>\n      <td>0</td>\n      <td>0</td>\n    </tr>\n    <tr>\n      <th>4351</th>\n      <td>61000.0</td>\n      <td>0.000000</td>\n      <td>0</td>\n      <td>0</td>\n      <td>1</td>\n      <td>0</td>\n      <td>0</td>\n      <td>1</td>\n      <td>0</td>\n      <td>0</td>\n    </tr>\n  </tbody>\n</table>\n<p>3038 rows × 10 columns</p>\n</div>"
     },
     "execution_count": 30,
     "metadata": {},
     "output_type": "execute_result"
    }
   ],
   "source": [
    "calculate_vif(X_train.drop(columns=['price_pred']), 5.0) ## Only works if I drop engine"
   ],
   "metadata": {
    "collapsed": false
   }
  },
  {
   "cell_type": "code",
   "execution_count": 31,
   "outputs": [],
   "source": [
    "## Feature cols from VIF.\n",
    "vif_feature_cols = ['mileage', 'log_owners', 'gear_type_Manual', 'fuel_type_Petrol',\n",
    "                    'fuel_type_Petrol Plug-in Hybrid', 'body_type_Coupe',\n",
    "                    'body_type_Estate', 'body_type_Hatchback', 'body_type_SUV',\n",
    "                    'body_type_Saloon', 'const']\n",
    "## Note that we have added the constant column back in at the end."
   ],
   "metadata": {
    "collapsed": false
   }
  },
  {
   "cell_type": "code",
   "execution_count": 32,
   "outputs": [
    {
     "data": {
      "text/plain": "<class 'statsmodels.iolib.summary.Summary'>\n\"\"\"\n                            OLS Regression Results                            \n==============================================================================\nDep. Variable:                  price   R-squared:                       0.712\nModel:                            OLS   Adj. R-squared:                  0.711\nMethod:                 Least Squares   F-statistic:                     749.5\nDate:                Thu, 09 Feb 2023   Prob (F-statistic):               0.00\nTime:                        10:29:31   Log-Likelihood:                -29450.\nNo. Observations:                3038   AIC:                         5.892e+04\nDf Residuals:                    3027   BIC:                         5.899e+04\nDf Model:                          10                                         \nCovariance Type:            nonrobust                                         \n===================================================================================================\n                                      coef    std err          t      P>|t|      [0.025      0.975]\n---------------------------------------------------------------------------------------------------\nmileage                            -0.1464      0.002    -63.532      0.000      -0.151      -0.142\nlog_owners                      -1077.2227    166.915     -6.454      0.000   -1404.501    -749.944\ngear_type_Manual                -3788.3757    152.523    -24.838      0.000   -4087.434   -3489.317\nfuel_type_Petrol                 -891.9164    164.268     -5.430      0.000   -1214.005    -569.828\nfuel_type_Petrol Plug-in Hybrid  1206.4546    971.979      1.241      0.215    -699.351    3112.260\nbody_type_Coupe                  3038.6280    637.956      4.763      0.000    1787.757    4289.499\nbody_type_Estate                 4216.0994    643.010      6.557      0.000    2955.319    5476.880\nbody_type_Hatchback              1434.1027    607.435      2.361      0.018     243.076    2625.130\nbody_type_SUV                    5609.9444    621.421      9.028      0.000    4391.495    6828.394\nbody_type_Saloon                 3432.9863    622.932      5.511      0.000    2211.575    4654.398\nconst                            2.391e+04    637.045     37.539      0.000    2.27e+04    2.52e+04\n==============================================================================\nOmnibus:                       88.022   Durbin-Watson:                   1.989\nProb(Omnibus):                  0.000   Jarque-Bera (JB):              189.790\nSkew:                           0.155   Prob(JB):                     6.13e-42\nKurtosis:                       4.184   Cond. No.                     1.42e+06\n==============================================================================\n\nNotes:\n[1] Standard Errors assume that the covariance matrix of the errors is correctly specified.\n[2] The condition number is large, 1.42e+06. This might indicate that there are\nstrong multicollinearity or other numerical problems.\n\"\"\"",
      "text/html": "<table class=\"simpletable\">\n<caption>OLS Regression Results</caption>\n<tr>\n  <th>Dep. Variable:</th>          <td>price</td>      <th>  R-squared:         </th> <td>   0.712</td> \n</tr>\n<tr>\n  <th>Model:</th>                   <td>OLS</td>       <th>  Adj. R-squared:    </th> <td>   0.711</td> \n</tr>\n<tr>\n  <th>Method:</th>             <td>Least Squares</td>  <th>  F-statistic:       </th> <td>   749.5</td> \n</tr>\n<tr>\n  <th>Date:</th>             <td>Thu, 09 Feb 2023</td> <th>  Prob (F-statistic):</th>  <td>  0.00</td>  \n</tr>\n<tr>\n  <th>Time:</th>                 <td>10:29:31</td>     <th>  Log-Likelihood:    </th> <td> -29450.</td> \n</tr>\n<tr>\n  <th>No. Observations:</th>      <td>  3038</td>      <th>  AIC:               </th> <td>5.892e+04</td>\n</tr>\n<tr>\n  <th>Df Residuals:</th>          <td>  3027</td>      <th>  BIC:               </th> <td>5.899e+04</td>\n</tr>\n<tr>\n  <th>Df Model:</th>              <td>    10</td>      <th>                     </th>     <td> </td>    \n</tr>\n<tr>\n  <th>Covariance Type:</th>      <td>nonrobust</td>    <th>                     </th>     <td> </td>    \n</tr>\n</table>\n<table class=\"simpletable\">\n<tr>\n                 <td></td>                    <th>coef</th>     <th>std err</th>      <th>t</th>      <th>P>|t|</th>  <th>[0.025</th>    <th>0.975]</th>  \n</tr>\n<tr>\n  <th>mileage</th>                         <td>   -0.1464</td> <td>    0.002</td> <td>  -63.532</td> <td> 0.000</td> <td>   -0.151</td> <td>   -0.142</td>\n</tr>\n<tr>\n  <th>log_owners</th>                      <td>-1077.2227</td> <td>  166.915</td> <td>   -6.454</td> <td> 0.000</td> <td>-1404.501</td> <td> -749.944</td>\n</tr>\n<tr>\n  <th>gear_type_Manual</th>                <td>-3788.3757</td> <td>  152.523</td> <td>  -24.838</td> <td> 0.000</td> <td>-4087.434</td> <td>-3489.317</td>\n</tr>\n<tr>\n  <th>fuel_type_Petrol</th>                <td> -891.9164</td> <td>  164.268</td> <td>   -5.430</td> <td> 0.000</td> <td>-1214.005</td> <td> -569.828</td>\n</tr>\n<tr>\n  <th>fuel_type_Petrol Plug-in Hybrid</th> <td> 1206.4546</td> <td>  971.979</td> <td>    1.241</td> <td> 0.215</td> <td> -699.351</td> <td> 3112.260</td>\n</tr>\n<tr>\n  <th>body_type_Coupe</th>                 <td> 3038.6280</td> <td>  637.956</td> <td>    4.763</td> <td> 0.000</td> <td> 1787.757</td> <td> 4289.499</td>\n</tr>\n<tr>\n  <th>body_type_Estate</th>                <td> 4216.0994</td> <td>  643.010</td> <td>    6.557</td> <td> 0.000</td> <td> 2955.319</td> <td> 5476.880</td>\n</tr>\n<tr>\n  <th>body_type_Hatchback</th>             <td> 1434.1027</td> <td>  607.435</td> <td>    2.361</td> <td> 0.018</td> <td>  243.076</td> <td> 2625.130</td>\n</tr>\n<tr>\n  <th>body_type_SUV</th>                   <td> 5609.9444</td> <td>  621.421</td> <td>    9.028</td> <td> 0.000</td> <td> 4391.495</td> <td> 6828.394</td>\n</tr>\n<tr>\n  <th>body_type_Saloon</th>                <td> 3432.9863</td> <td>  622.932</td> <td>    5.511</td> <td> 0.000</td> <td> 2211.575</td> <td> 4654.398</td>\n</tr>\n<tr>\n  <th>const</th>                           <td> 2.391e+04</td> <td>  637.045</td> <td>   37.539</td> <td> 0.000</td> <td> 2.27e+04</td> <td> 2.52e+04</td>\n</tr>\n</table>\n<table class=\"simpletable\">\n<tr>\n  <th>Omnibus:</th>       <td>88.022</td> <th>  Durbin-Watson:     </th> <td>   1.989</td>\n</tr>\n<tr>\n  <th>Prob(Omnibus):</th> <td> 0.000</td> <th>  Jarque-Bera (JB):  </th> <td> 189.790</td>\n</tr>\n<tr>\n  <th>Skew:</th>          <td> 0.155</td> <th>  Prob(JB):          </th> <td>6.13e-42</td>\n</tr>\n<tr>\n  <th>Kurtosis:</th>      <td> 4.184</td> <th>  Cond. No.          </th> <td>1.42e+06</td>\n</tr>\n</table><br/><br/>Notes:<br/>[1] Standard Errors assume that the covariance matrix of the errors is correctly specified.<br/>[2] The condition number is large, 1.42e+06. This might indicate that there are<br/>strong multicollinearity or other numerical problems."
     },
     "execution_count": 32,
     "metadata": {},
     "output_type": "execute_result"
    }
   ],
   "source": [
    "## Linear regression test on training set with VIF feature columns\n",
    "\n",
    "lin_reg = sm.OLS(y_train, X_train[vif_feature_cols])\n",
    "results = lin_reg.fit()\n",
    "results.summary()\n",
    "\n",
    "## Adj R^2 is 0.712"
   ],
   "metadata": {
    "collapsed": false
   }
  },
  {
   "cell_type": "code",
   "execution_count": 33,
   "outputs": [
    {
     "name": "stdout",
     "output_type": "stream",
     "text": [
      "the RMSE is 3924.4717526844174\n",
      "mileage                               -0.146429\n",
      "log_owners                         -1077.222672\n",
      "gear_type_Manual                   -3788.375671\n",
      "fuel_type_Petrol                    -891.916400\n",
      "fuel_type_Petrol Plug-in Hybrid     1206.454636\n",
      "body_type_Coupe                     3038.627980\n",
      "body_type_Estate                    4216.099436\n",
      "body_type_Hatchback                 1434.102683\n",
      "body_type_SUV                       5609.944438\n",
      "body_type_Saloon                    3432.986324\n",
      "const                              23914.059197\n",
      "dtype: float64\n"
     ]
    }
   ],
   "source": [
    "X_train['price_pred'] = results.predict(X_train[vif_feature_cols])\n",
    "rmse = statsmodels.tools.eval_measures.rmse(y_train, X_train['price_pred'])\n",
    "print(f'the RMSE is {rmse}') ## RMSE of 3924\n",
    "print(results.params)"
   ],
   "metadata": {
    "collapsed": false
   }
  },
  {
   "cell_type": "markdown",
   "source": [
    "The RMSE and adjusted R-squared for the model with VIF feature columns are both worse for this model."
   ],
   "metadata": {
    "collapsed": false
   }
  },
  {
   "cell_type": "code",
   "execution_count": 34,
   "outputs": [],
   "source": [
    "## Code for stepwise selection from notebook part 4\n",
    "\n",
    "def stepwise_selection(X, y, threshold_in = 0.01, threshold_out = 0.05, verbose = True):\n",
    "    # The function is checking for p-values (whether features are statistically significant), the lower the better\n",
    "    included = [] # this is going to be the list of features we keep\n",
    "    while True:\n",
    "        changed = False\n",
    "        # forward step\n",
    "        excluded = list(set(X.columns) - set(included))\n",
    "        new_pval = pd.Series(index = excluded, dtype = 'float64')\n",
    "        for new_column in excluded:\n",
    "            model = sm.OLS(y, sm.add_constant(pd.DataFrame(X[included + [new_column]]))).fit()\n",
    "            new_pval[new_column] = model.pvalues[new_column]\n",
    "        best_pval = new_pval.min()\n",
    "        # we add the feature with the lowest (best) p-value under the threshold to our 'included' list\n",
    "        if best_pval < threshold_in:\n",
    "            best_feature = new_pval.idxmin()\n",
    "            included.append(best_feature)\n",
    "            changed = True\n",
    "            if verbose:\n",
    "                print('Add  {:30} with p-value {:.6}'.format(best_feature, best_pval)) # specifying the verbose text\n",
    "\n",
    "        # backward step: removing features if new features added to the list make them statistically insignificant\n",
    "        model = sm.OLS(y, sm.add_constant(pd.DataFrame(X[included]))).fit()\n",
    "\n",
    "        # use all coefs except intercept\n",
    "        pvalues = model.pvalues.iloc[1:]\n",
    "        worst_pval = pvalues.max() # null if pvalues is empty\n",
    "        # if the p-value exceeds the upper threshold, the feature will be dropped from the 'included' list\n",
    "        if worst_pval > threshold_out:\n",
    "            changed = True\n",
    "            worst_feature = pvalues.idxmax()\n",
    "            included.remove(worst_feature)\n",
    "            if verbose:\n",
    "                print('Drop {:30} with p-value {:.6}'.format(worst_feature, worst_pval))\n",
    "        if not changed:\n",
    "            break\n",
    "    return included"
   ],
   "metadata": {
    "collapsed": false
   }
  },
  {
   "cell_type": "code",
   "execution_count": 35,
   "outputs": [
    {
     "name": "stdout",
     "output_type": "stream",
     "text": [
      "Add  year                           with p-value 0.0\n",
      "Add  const                          with p-value 0.0\n",
      "Add  BHP                            with p-value 2.31619e-243\n",
      "Add  log_mileage                    with p-value 1.16904e-206\n",
      "Add  body_type_SUV                  with p-value 2.74528e-103\n",
      "Add  gear_type_Automatic            with p-value 2.21586e-89\n",
      "Add  gear_type_Manual               with p-value 0.0\n",
      "Add  engine                         with p-value 2.09e-18\n",
      "Add  body_type_Estate               with p-value 5.62293e-09\n",
      "Add  mileage                        with p-value 1.69928e-05\n",
      "Add  body_type_Coupe                with p-value 0.00419848\n",
      "resulting features:\n",
      "['year', 'const', 'BHP', 'log_mileage', 'body_type_SUV', 'gear_type_Automatic', 'gear_type_Manual', 'engine', 'body_type_Estate', 'mileage', 'body_type_Coupe']\n"
     ]
    }
   ],
   "source": [
    "stepwise_cols = stepwise_selection(X_train.drop(columns=['price_pred']), y_train)\n",
    "\n",
    "print('resulting features:')\n",
    "print(stepwise_cols)"
   ],
   "metadata": {
    "collapsed": false
   }
  },
  {
   "cell_type": "code",
   "execution_count": 36,
   "outputs": [],
   "source": [
    "## Feature columns from stepwise selection\n",
    "stepwise_feature_cols = ['year', 'const', 'BHP', 'log_mileage', 'body_type_SUV', 'gear_type_Automatic', 'gear_type_Manual', 'engine', 'body_type_Estate', 'mileage', 'body_type_Coupe']"
   ],
   "metadata": {
    "collapsed": false
   }
  },
  {
   "cell_type": "code",
   "execution_count": 37,
   "outputs": [
    {
     "data": {
      "text/plain": "<class 'statsmodels.iolib.summary.Summary'>\n\"\"\"\n                            OLS Regression Results                            \n==============================================================================\nDep. Variable:                  price   R-squared:                       0.894\nModel:                            OLS   Adj. R-squared:                  0.893\nMethod:                 Least Squares   F-statistic:                     2831.\nDate:                Thu, 09 Feb 2023   Prob (F-statistic):               0.00\nTime:                        10:29:33   Log-Likelihood:                -27937.\nNo. Observations:                3038   AIC:                         5.589e+04\nDf Residuals:                    3028   BIC:                         5.595e+04\nDf Model:                           9                                         \nCovariance Type:            nonrobust                                         \n=======================================================================================\n                          coef    std err          t      P>|t|      [0.025      0.975]\n---------------------------------------------------------------------------------------\nyear                 1134.4881     16.675     68.037      0.000    1101.793    1167.183\nconst                 -1.5e+06   2.25e+04    -66.651      0.000   -1.54e+06   -1.46e+06\nBHP                    42.0897      2.142     19.654      0.000      37.891      46.289\nlog_mileage         -2841.2318    158.441    -17.932      0.000   -3151.895   -2530.569\nbody_type_SUV        2398.6249    114.732     20.906      0.000    2173.665    2623.585\ngear_type_Automatic -7.488e+05   1.13e+04    -66.521      0.000   -7.71e+05   -7.27e+05\ngear_type_Manual    -7.507e+05   1.12e+04    -66.781      0.000   -7.73e+05   -7.29e+05\nengine               1585.7196    189.500      8.368      0.000    1214.158    1957.281\nbody_type_Estate      816.5405    151.469      5.391      0.000     519.548    1113.533\nmileage                -0.0150      0.003     -4.448      0.000      -0.022      -0.008\nbody_type_Coupe      -457.8385    159.803     -2.865      0.004    -771.171    -144.506\n==============================================================================\nOmnibus:                      652.156   Durbin-Watson:                   2.000\nProb(Omnibus):                  0.000   Jarque-Bera (JB):             3104.812\nSkew:                           0.950   Prob(JB):                         0.00\nKurtosis:                       7.573   Cond. No.                     2.55e+18\n==============================================================================\n\nNotes:\n[1] Standard Errors assume that the covariance matrix of the errors is correctly specified.\n[2] The smallest eigenvalue is 2.17e-24. This might indicate that there are\nstrong multicollinearity problems or that the design matrix is singular.\n\"\"\"",
      "text/html": "<table class=\"simpletable\">\n<caption>OLS Regression Results</caption>\n<tr>\n  <th>Dep. Variable:</th>          <td>price</td>      <th>  R-squared:         </th> <td>   0.894</td> \n</tr>\n<tr>\n  <th>Model:</th>                   <td>OLS</td>       <th>  Adj. R-squared:    </th> <td>   0.893</td> \n</tr>\n<tr>\n  <th>Method:</th>             <td>Least Squares</td>  <th>  F-statistic:       </th> <td>   2831.</td> \n</tr>\n<tr>\n  <th>Date:</th>             <td>Thu, 09 Feb 2023</td> <th>  Prob (F-statistic):</th>  <td>  0.00</td>  \n</tr>\n<tr>\n  <th>Time:</th>                 <td>10:29:33</td>     <th>  Log-Likelihood:    </th> <td> -27937.</td> \n</tr>\n<tr>\n  <th>No. Observations:</th>      <td>  3038</td>      <th>  AIC:               </th> <td>5.589e+04</td>\n</tr>\n<tr>\n  <th>Df Residuals:</th>          <td>  3028</td>      <th>  BIC:               </th> <td>5.595e+04</td>\n</tr>\n<tr>\n  <th>Df Model:</th>              <td>     9</td>      <th>                     </th>     <td> </td>    \n</tr>\n<tr>\n  <th>Covariance Type:</th>      <td>nonrobust</td>    <th>                     </th>     <td> </td>    \n</tr>\n</table>\n<table class=\"simpletable\">\n<tr>\n           <td></td>              <th>coef</th>     <th>std err</th>      <th>t</th>      <th>P>|t|</th>  <th>[0.025</th>    <th>0.975]</th>  \n</tr>\n<tr>\n  <th>year</th>                <td> 1134.4881</td> <td>   16.675</td> <td>   68.037</td> <td> 0.000</td> <td> 1101.793</td> <td> 1167.183</td>\n</tr>\n<tr>\n  <th>const</th>               <td>  -1.5e+06</td> <td> 2.25e+04</td> <td>  -66.651</td> <td> 0.000</td> <td>-1.54e+06</td> <td>-1.46e+06</td>\n</tr>\n<tr>\n  <th>BHP</th>                 <td>   42.0897</td> <td>    2.142</td> <td>   19.654</td> <td> 0.000</td> <td>   37.891</td> <td>   46.289</td>\n</tr>\n<tr>\n  <th>log_mileage</th>         <td>-2841.2318</td> <td>  158.441</td> <td>  -17.932</td> <td> 0.000</td> <td>-3151.895</td> <td>-2530.569</td>\n</tr>\n<tr>\n  <th>body_type_SUV</th>       <td> 2398.6249</td> <td>  114.732</td> <td>   20.906</td> <td> 0.000</td> <td> 2173.665</td> <td> 2623.585</td>\n</tr>\n<tr>\n  <th>gear_type_Automatic</th> <td>-7.488e+05</td> <td> 1.13e+04</td> <td>  -66.521</td> <td> 0.000</td> <td>-7.71e+05</td> <td>-7.27e+05</td>\n</tr>\n<tr>\n  <th>gear_type_Manual</th>    <td>-7.507e+05</td> <td> 1.12e+04</td> <td>  -66.781</td> <td> 0.000</td> <td>-7.73e+05</td> <td>-7.29e+05</td>\n</tr>\n<tr>\n  <th>engine</th>              <td> 1585.7196</td> <td>  189.500</td> <td>    8.368</td> <td> 0.000</td> <td> 1214.158</td> <td> 1957.281</td>\n</tr>\n<tr>\n  <th>body_type_Estate</th>    <td>  816.5405</td> <td>  151.469</td> <td>    5.391</td> <td> 0.000</td> <td>  519.548</td> <td> 1113.533</td>\n</tr>\n<tr>\n  <th>mileage</th>             <td>   -0.0150</td> <td>    0.003</td> <td>   -4.448</td> <td> 0.000</td> <td>   -0.022</td> <td>   -0.008</td>\n</tr>\n<tr>\n  <th>body_type_Coupe</th>     <td> -457.8385</td> <td>  159.803</td> <td>   -2.865</td> <td> 0.004</td> <td> -771.171</td> <td> -144.506</td>\n</tr>\n</table>\n<table class=\"simpletable\">\n<tr>\n  <th>Omnibus:</th>       <td>652.156</td> <th>  Durbin-Watson:     </th> <td>   2.000</td>\n</tr>\n<tr>\n  <th>Prob(Omnibus):</th> <td> 0.000</td>  <th>  Jarque-Bera (JB):  </th> <td>3104.812</td>\n</tr>\n<tr>\n  <th>Skew:</th>          <td> 0.950</td>  <th>  Prob(JB):          </th> <td>    0.00</td>\n</tr>\n<tr>\n  <th>Kurtosis:</th>      <td> 7.573</td>  <th>  Cond. No.          </th> <td>2.55e+18</td>\n</tr>\n</table><br/><br/>Notes:<br/>[1] Standard Errors assume that the covariance matrix of the errors is correctly specified.<br/>[2] The smallest eigenvalue is 2.17e-24. This might indicate that there are<br/>strong multicollinearity problems or that the design matrix is singular."
     },
     "execution_count": 37,
     "metadata": {},
     "output_type": "execute_result"
    }
   ],
   "source": [
    "## Linear regression test on training set with stepwise feature columns\n",
    "\n",
    "lin_reg = sm.OLS(y_train, X_train[stepwise_feature_cols])\n",
    "results = lin_reg.fit()\n",
    "results.summary()\n",
    "\n",
    "## Adj R^2 is 0.894"
   ],
   "metadata": {
    "collapsed": false
   }
  },
  {
   "cell_type": "code",
   "execution_count": 38,
   "outputs": [
    {
     "name": "stdout",
     "output_type": "stream",
     "text": [
      "the RMSE is 2384.7925161498233\n",
      "year                   1.134488e+03\n",
      "const                 -1.499547e+06\n",
      "BHP                    4.208970e+01\n",
      "log_mileage           -2.841232e+03\n",
      "body_type_SUV          2.398625e+03\n",
      "gear_type_Automatic   -7.488307e+05\n",
      "gear_type_Manual      -7.507164e+05\n",
      "engine                 1.585720e+03\n",
      "body_type_Estate       8.165405e+02\n",
      "mileage               -1.500031e-02\n",
      "body_type_Coupe       -4.578385e+02\n",
      "dtype: float64\n"
     ]
    }
   ],
   "source": [
    "X_train['price_pred'] = results.predict(X_train[stepwise_feature_cols])\n",
    "rmse = statsmodels.tools.eval_measures.rmse(y_train, X_train['price_pred'])\n",
    "print(f'the RMSE is {rmse}') ## RMSE of 2384\n",
    "print(results.params)"
   ],
   "metadata": {
    "collapsed": false
   }
  },
  {
   "cell_type": "markdown",
   "source": [
    "This model performs similarly to our first one, but includes many less columns. As such, it is our best model."
   ],
   "metadata": {
    "collapsed": false
   }
  },
  {
   "cell_type": "markdown",
   "source": [
    "## Linear regression modelling (ii)\n",
    "#### Testing"
   ],
   "metadata": {
    "collapsed": false
   }
  },
  {
   "cell_type": "markdown",
   "source": [
    "In order to test our model on our Test dataset, we must first feature engineer it."
   ],
   "metadata": {
    "collapsed": false
   }
  },
  {
   "cell_type": "code",
   "execution_count": 39,
   "outputs": [
    {
     "data": {
      "text/plain": "       const  mileage    BHP transmission    fuel  owners       body engine  \\\n14551    1.0  39500.0  114.0       Manual  Petrol     2.0        SUV   1.0L   \n1648     1.0  47000.0  123.0       Manual  Petrol     NaN  Hatchback   1.4L   \n14006    1.0  35587.0  114.0    Automatic  Diesel     NaN        SUV   1.6L   \n7615     1.0  44000.0  148.0       Manual  Diesel     2.0     Estate   2.0L   \n16047    1.0  38316.0  148.0    Automatic  Petrol     NaN        SUV   1.4L   \n\n       year                      filename  \n14551  2019        ./Datasets\\Audi_Q2.txt  \n1648   2018        ./Datasets\\Audi_A1.txt  \n14006  2018        ./Datasets\\Audi_Q2.txt  \n7615   2017  ./Datasets\\Audi_A4 Avant.txt  \n16047  2018        ./Datasets\\Audi_Q3.txt  ",
      "text/html": "<div>\n<style scoped>\n    .dataframe tbody tr th:only-of-type {\n        vertical-align: middle;\n    }\n\n    .dataframe tbody tr th {\n        vertical-align: top;\n    }\n\n    .dataframe thead th {\n        text-align: right;\n    }\n</style>\n<table border=\"1\" class=\"dataframe\">\n  <thead>\n    <tr style=\"text-align: right;\">\n      <th></th>\n      <th>const</th>\n      <th>mileage</th>\n      <th>BHP</th>\n      <th>transmission</th>\n      <th>fuel</th>\n      <th>owners</th>\n      <th>body</th>\n      <th>engine</th>\n      <th>year</th>\n      <th>filename</th>\n    </tr>\n  </thead>\n  <tbody>\n    <tr>\n      <th>14551</th>\n      <td>1.0</td>\n      <td>39500.0</td>\n      <td>114.0</td>\n      <td>Manual</td>\n      <td>Petrol</td>\n      <td>2.0</td>\n      <td>SUV</td>\n      <td>1.0L</td>\n      <td>2019</td>\n      <td>./Datasets\\Audi_Q2.txt</td>\n    </tr>\n    <tr>\n      <th>1648</th>\n      <td>1.0</td>\n      <td>47000.0</td>\n      <td>123.0</td>\n      <td>Manual</td>\n      <td>Petrol</td>\n      <td>NaN</td>\n      <td>Hatchback</td>\n      <td>1.4L</td>\n      <td>2018</td>\n      <td>./Datasets\\Audi_A1.txt</td>\n    </tr>\n    <tr>\n      <th>14006</th>\n      <td>1.0</td>\n      <td>35587.0</td>\n      <td>114.0</td>\n      <td>Automatic</td>\n      <td>Diesel</td>\n      <td>NaN</td>\n      <td>SUV</td>\n      <td>1.6L</td>\n      <td>2018</td>\n      <td>./Datasets\\Audi_Q2.txt</td>\n    </tr>\n    <tr>\n      <th>7615</th>\n      <td>1.0</td>\n      <td>44000.0</td>\n      <td>148.0</td>\n      <td>Manual</td>\n      <td>Diesel</td>\n      <td>2.0</td>\n      <td>Estate</td>\n      <td>2.0L</td>\n      <td>2017</td>\n      <td>./Datasets\\Audi_A4 Avant.txt</td>\n    </tr>\n    <tr>\n      <th>16047</th>\n      <td>1.0</td>\n      <td>38316.0</td>\n      <td>148.0</td>\n      <td>Automatic</td>\n      <td>Petrol</td>\n      <td>NaN</td>\n      <td>SUV</td>\n      <td>1.4L</td>\n      <td>2018</td>\n      <td>./Datasets\\Audi_Q3.txt</td>\n    </tr>\n  </tbody>\n</table>\n</div>"
     },
     "execution_count": 39,
     "metadata": {},
     "output_type": "execute_result"
    }
   ],
   "source": [
    "X_test.head()"
   ],
   "metadata": {
    "collapsed": false
   }
  },
  {
   "cell_type": "code",
   "execution_count": 40,
   "outputs": [
    {
     "data": {
      "text/plain": "const           float64\nmileage         float64\nBHP             float64\ntransmission     object\nfuel             object\nowners          float64\nbody             object\nengine           object\nyear              int32\nfilename         object\ndtype: object"
     },
     "execution_count": 40,
     "metadata": {},
     "output_type": "execute_result"
    }
   ],
   "source": [
    "X_test.dtypes"
   ],
   "metadata": {
    "collapsed": false
   }
  },
  {
   "cell_type": "code",
   "execution_count": 41,
   "outputs": [],
   "source": [
    "## Here we define a feature engineering function.\n",
    "\n",
    "def feature_eng(data):\n",
    "\n",
    "    data['engine'] = data[\"engine\"].replace('L', '', regex=True).astype(float)\n",
    "    data['owners'].fillna(value=1, inplace=True)\n",
    "    data['owners'] = data['owners'].astype(int)\n",
    "\n",
    "    data['log_mileage'] = np.log(data['mileage'])\n",
    "    data['log_owners'] = np.log(data['owners'])\n",
    "\n",
    "    data = pd.get_dummies(data, columns = ['transmission'], drop_first = False, prefix = 'gear_type')\n",
    "    data = pd.get_dummies(data, columns = ['fuel'], drop_first = False, prefix = 'fuel_type')\n",
    "    data = pd.get_dummies(data, columns = ['body'], drop_first = False, prefix = 'body_type')\n",
    "\n",
    "    data.drop(columns=['filename'])\n",
    "\n",
    "    return data"
   ],
   "metadata": {
    "collapsed": false
   }
  },
  {
   "cell_type": "code",
   "execution_count": 42,
   "outputs": [
    {
     "data": {
      "text/plain": "       const  mileage    BHP  owners  engine  year  \\\n14551    1.0  39500.0  114.0       2     1.0  2019   \n1648     1.0  47000.0  123.0       1     1.4  2018   \n14006    1.0  35587.0  114.0       1     1.6  2018   \n7615     1.0  44000.0  148.0       2     2.0  2017   \n16047    1.0  38316.0  148.0       1     1.4  2018   \n...      ...      ...    ...     ...     ...   ...   \n11986    1.0  43177.0  187.0       1     2.0  2017   \n6098     1.0  17782.0  114.0       3     1.0  2019   \n2435     1.0  20500.0  148.0       1     1.5  2020   \n15732    1.0  72115.0  148.0       2     2.0  2017   \n6512     1.0  14786.0  109.0       2     1.0  2020   \n\n                           filename  log_mileage  log_owners  \\\n14551        ./Datasets\\Audi_Q2.txt    10.584056    0.693147   \n1648         ./Datasets\\Audi_A1.txt    10.757903    0.000000   \n14006        ./Datasets\\Audi_Q2.txt    10.479736    0.000000   \n7615   ./Datasets\\Audi_A4 Avant.txt    10.691945    0.693147   \n16047        ./Datasets\\Audi_Q3.txt    10.553623    0.000000   \n...                             ...          ...         ...   \n11986  ./Datasets\\Audi_A6 Avant.txt    10.673063    0.000000   \n6098         ./Datasets\\Audi_A3.txt     9.785942    1.098612   \n2435         ./Datasets\\Audi_A1.txt     9.928180    0.000000   \n15732        ./Datasets\\Audi_Q3.txt    11.186017    0.693147   \n6512         ./Datasets\\Audi_A3.txt     9.601436    0.693147   \n\n       gear_type_Automatic  gear_type_Manual  fuel_type_Diesel  \\\n14551                    0                 1                 0   \n1648                     0                 1                 0   \n14006                    1                 0                 1   \n7615                     0                 1                 1   \n16047                    1                 0                 0   \n...                    ...               ...               ...   \n11986                    1                 0                 1   \n6098                     0                 1                 0   \n2435                     1                 0                 0   \n15732                    1                 0                 1   \n6512                     1                 0                 0   \n\n       fuel_type_Petrol  fuel_type_Petrol Plug-in Hybrid  \\\n14551                 1                                0   \n1648                  1                                0   \n14006                 0                                0   \n7615                  0                                0   \n16047                 1                                0   \n...                 ...                              ...   \n11986                 0                                0   \n6098                  1                                0   \n2435                  1                                0   \n15732                 0                                0   \n6512                  1                                0   \n\n       body_type_Convertible  body_type_Coupe  body_type_Estate  \\\n14551                      0                0                 0   \n1648                       0                0                 0   \n14006                      0                0                 0   \n7615                       0                0                 1   \n16047                      0                0                 0   \n...                      ...              ...               ...   \n11986                      0                0                 1   \n6098                       0                0                 0   \n2435                       0                0                 0   \n15732                      0                0                 0   \n6512                       0                0                 0   \n\n       body_type_Hatchback  body_type_SUV  body_type_Saloon  \n14551                    0              1                 0  \n1648                     1              0                 0  \n14006                    0              1                 0  \n7615                     0              0                 0  \n16047                    0              1                 0  \n...                    ...            ...               ...  \n11986                    0              0                 0  \n6098                     1              0                 0  \n2435                     1              0                 0  \n15732                    0              1                 0  \n6512                     1              0                 0  \n\n[760 rows x 20 columns]",
      "text/html": "<div>\n<style scoped>\n    .dataframe tbody tr th:only-of-type {\n        vertical-align: middle;\n    }\n\n    .dataframe tbody tr th {\n        vertical-align: top;\n    }\n\n    .dataframe thead th {\n        text-align: right;\n    }\n</style>\n<table border=\"1\" class=\"dataframe\">\n  <thead>\n    <tr style=\"text-align: right;\">\n      <th></th>\n      <th>const</th>\n      <th>mileage</th>\n      <th>BHP</th>\n      <th>owners</th>\n      <th>engine</th>\n      <th>year</th>\n      <th>filename</th>\n      <th>log_mileage</th>\n      <th>log_owners</th>\n      <th>gear_type_Automatic</th>\n      <th>gear_type_Manual</th>\n      <th>fuel_type_Diesel</th>\n      <th>fuel_type_Petrol</th>\n      <th>fuel_type_Petrol Plug-in Hybrid</th>\n      <th>body_type_Convertible</th>\n      <th>body_type_Coupe</th>\n      <th>body_type_Estate</th>\n      <th>body_type_Hatchback</th>\n      <th>body_type_SUV</th>\n      <th>body_type_Saloon</th>\n    </tr>\n  </thead>\n  <tbody>\n    <tr>\n      <th>14551</th>\n      <td>1.0</td>\n      <td>39500.0</td>\n      <td>114.0</td>\n      <td>2</td>\n      <td>1.0</td>\n      <td>2019</td>\n      <td>./Datasets\\Audi_Q2.txt</td>\n      <td>10.584056</td>\n      <td>0.693147</td>\n      <td>0</td>\n      <td>1</td>\n      <td>0</td>\n      <td>1</td>\n      <td>0</td>\n      <td>0</td>\n      <td>0</td>\n      <td>0</td>\n      <td>0</td>\n      <td>1</td>\n      <td>0</td>\n    </tr>\n    <tr>\n      <th>1648</th>\n      <td>1.0</td>\n      <td>47000.0</td>\n      <td>123.0</td>\n      <td>1</td>\n      <td>1.4</td>\n      <td>2018</td>\n      <td>./Datasets\\Audi_A1.txt</td>\n      <td>10.757903</td>\n      <td>0.000000</td>\n      <td>0</td>\n      <td>1</td>\n      <td>0</td>\n      <td>1</td>\n      <td>0</td>\n      <td>0</td>\n      <td>0</td>\n      <td>0</td>\n      <td>1</td>\n      <td>0</td>\n      <td>0</td>\n    </tr>\n    <tr>\n      <th>14006</th>\n      <td>1.0</td>\n      <td>35587.0</td>\n      <td>114.0</td>\n      <td>1</td>\n      <td>1.6</td>\n      <td>2018</td>\n      <td>./Datasets\\Audi_Q2.txt</td>\n      <td>10.479736</td>\n      <td>0.000000</td>\n      <td>1</td>\n      <td>0</td>\n      <td>1</td>\n      <td>0</td>\n      <td>0</td>\n      <td>0</td>\n      <td>0</td>\n      <td>0</td>\n      <td>0</td>\n      <td>1</td>\n      <td>0</td>\n    </tr>\n    <tr>\n      <th>7615</th>\n      <td>1.0</td>\n      <td>44000.0</td>\n      <td>148.0</td>\n      <td>2</td>\n      <td>2.0</td>\n      <td>2017</td>\n      <td>./Datasets\\Audi_A4 Avant.txt</td>\n      <td>10.691945</td>\n      <td>0.693147</td>\n      <td>0</td>\n      <td>1</td>\n      <td>1</td>\n      <td>0</td>\n      <td>0</td>\n      <td>0</td>\n      <td>0</td>\n      <td>1</td>\n      <td>0</td>\n      <td>0</td>\n      <td>0</td>\n    </tr>\n    <tr>\n      <th>16047</th>\n      <td>1.0</td>\n      <td>38316.0</td>\n      <td>148.0</td>\n      <td>1</td>\n      <td>1.4</td>\n      <td>2018</td>\n      <td>./Datasets\\Audi_Q3.txt</td>\n      <td>10.553623</td>\n      <td>0.000000</td>\n      <td>1</td>\n      <td>0</td>\n      <td>0</td>\n      <td>1</td>\n      <td>0</td>\n      <td>0</td>\n      <td>0</td>\n      <td>0</td>\n      <td>0</td>\n      <td>1</td>\n      <td>0</td>\n    </tr>\n    <tr>\n      <th>...</th>\n      <td>...</td>\n      <td>...</td>\n      <td>...</td>\n      <td>...</td>\n      <td>...</td>\n      <td>...</td>\n      <td>...</td>\n      <td>...</td>\n      <td>...</td>\n      <td>...</td>\n      <td>...</td>\n      <td>...</td>\n      <td>...</td>\n      <td>...</td>\n      <td>...</td>\n      <td>...</td>\n      <td>...</td>\n      <td>...</td>\n      <td>...</td>\n      <td>...</td>\n    </tr>\n    <tr>\n      <th>11986</th>\n      <td>1.0</td>\n      <td>43177.0</td>\n      <td>187.0</td>\n      <td>1</td>\n      <td>2.0</td>\n      <td>2017</td>\n      <td>./Datasets\\Audi_A6 Avant.txt</td>\n      <td>10.673063</td>\n      <td>0.000000</td>\n      <td>1</td>\n      <td>0</td>\n      <td>1</td>\n      <td>0</td>\n      <td>0</td>\n      <td>0</td>\n      <td>0</td>\n      <td>1</td>\n      <td>0</td>\n      <td>0</td>\n      <td>0</td>\n    </tr>\n    <tr>\n      <th>6098</th>\n      <td>1.0</td>\n      <td>17782.0</td>\n      <td>114.0</td>\n      <td>3</td>\n      <td>1.0</td>\n      <td>2019</td>\n      <td>./Datasets\\Audi_A3.txt</td>\n      <td>9.785942</td>\n      <td>1.098612</td>\n      <td>0</td>\n      <td>1</td>\n      <td>0</td>\n      <td>1</td>\n      <td>0</td>\n      <td>0</td>\n      <td>0</td>\n      <td>0</td>\n      <td>1</td>\n      <td>0</td>\n      <td>0</td>\n    </tr>\n    <tr>\n      <th>2435</th>\n      <td>1.0</td>\n      <td>20500.0</td>\n      <td>148.0</td>\n      <td>1</td>\n      <td>1.5</td>\n      <td>2020</td>\n      <td>./Datasets\\Audi_A1.txt</td>\n      <td>9.928180</td>\n      <td>0.000000</td>\n      <td>1</td>\n      <td>0</td>\n      <td>0</td>\n      <td>1</td>\n      <td>0</td>\n      <td>0</td>\n      <td>0</td>\n      <td>0</td>\n      <td>1</td>\n      <td>0</td>\n      <td>0</td>\n    </tr>\n    <tr>\n      <th>15732</th>\n      <td>1.0</td>\n      <td>72115.0</td>\n      <td>148.0</td>\n      <td>2</td>\n      <td>2.0</td>\n      <td>2017</td>\n      <td>./Datasets\\Audi_Q3.txt</td>\n      <td>11.186017</td>\n      <td>0.693147</td>\n      <td>1</td>\n      <td>0</td>\n      <td>1</td>\n      <td>0</td>\n      <td>0</td>\n      <td>0</td>\n      <td>0</td>\n      <td>0</td>\n      <td>0</td>\n      <td>1</td>\n      <td>0</td>\n    </tr>\n    <tr>\n      <th>6512</th>\n      <td>1.0</td>\n      <td>14786.0</td>\n      <td>109.0</td>\n      <td>2</td>\n      <td>1.0</td>\n      <td>2020</td>\n      <td>./Datasets\\Audi_A3.txt</td>\n      <td>9.601436</td>\n      <td>0.693147</td>\n      <td>1</td>\n      <td>0</td>\n      <td>0</td>\n      <td>1</td>\n      <td>0</td>\n      <td>0</td>\n      <td>0</td>\n      <td>0</td>\n      <td>1</td>\n      <td>0</td>\n      <td>0</td>\n    </tr>\n  </tbody>\n</table>\n<p>760 rows × 20 columns</p>\n</div>"
     },
     "execution_count": 42,
     "metadata": {},
     "output_type": "execute_result"
    }
   ],
   "source": [
    "feature_eng(X_test)"
   ],
   "metadata": {
    "collapsed": false
   }
  },
  {
   "cell_type": "code",
   "execution_count": 43,
   "outputs": [],
   "source": [
    "X_test = feature_eng(X_test)\n",
    "X_test = X_test[stepwise_feature_cols]"
   ],
   "metadata": {
    "collapsed": false
   }
  },
  {
   "cell_type": "code",
   "execution_count": 44,
   "outputs": [
    {
     "name": "stdout",
     "output_type": "stream",
     "text": [
      "the RMSE is 2638.371613041431\n"
     ]
    }
   ],
   "source": [
    "X_test['price_pred'] = results.predict(X_test)\n",
    "rmse = statsmodels.tools.eval_measures.rmse(y_test, X_test['price_pred'])\n",
    "print(f'the RMSE is {rmse}')"
   ],
   "metadata": {
    "collapsed": false
   }
  },
  {
   "cell_type": "markdown",
   "source": [
    "Comparing our predictions to the actual prices"
   ],
   "metadata": {
    "collapsed": false
   }
  },
  {
   "cell_type": "code",
   "execution_count": 45,
   "outputs": [
    {
     "data": {
      "text/plain": "         price    price_pred\n14551  18000.0  18386.292618\n1648   14245.0  15259.832962\n14006  20295.0  20444.009276\n7615   15650.0  17177.962398\n16047  22943.0  21307.048825\n...        ...           ...\n11986  23299.0  20771.132041\n6098   19500.0  18581.071233\n2435   21990.0  23380.245292\n15732  16500.0  18820.217559\n6512   26495.0  21959.954645\n\n[760 rows x 2 columns]",
      "text/html": "<div>\n<style scoped>\n    .dataframe tbody tr th:only-of-type {\n        vertical-align: middle;\n    }\n\n    .dataframe tbody tr th {\n        vertical-align: top;\n    }\n\n    .dataframe thead th {\n        text-align: right;\n    }\n</style>\n<table border=\"1\" class=\"dataframe\">\n  <thead>\n    <tr style=\"text-align: right;\">\n      <th></th>\n      <th>price</th>\n      <th>price_pred</th>\n    </tr>\n  </thead>\n  <tbody>\n    <tr>\n      <th>14551</th>\n      <td>18000.0</td>\n      <td>18386.292618</td>\n    </tr>\n    <tr>\n      <th>1648</th>\n      <td>14245.0</td>\n      <td>15259.832962</td>\n    </tr>\n    <tr>\n      <th>14006</th>\n      <td>20295.0</td>\n      <td>20444.009276</td>\n    </tr>\n    <tr>\n      <th>7615</th>\n      <td>15650.0</td>\n      <td>17177.962398</td>\n    </tr>\n    <tr>\n      <th>16047</th>\n      <td>22943.0</td>\n      <td>21307.048825</td>\n    </tr>\n    <tr>\n      <th>...</th>\n      <td>...</td>\n      <td>...</td>\n    </tr>\n    <tr>\n      <th>11986</th>\n      <td>23299.0</td>\n      <td>20771.132041</td>\n    </tr>\n    <tr>\n      <th>6098</th>\n      <td>19500.0</td>\n      <td>18581.071233</td>\n    </tr>\n    <tr>\n      <th>2435</th>\n      <td>21990.0</td>\n      <td>23380.245292</td>\n    </tr>\n    <tr>\n      <th>15732</th>\n      <td>16500.0</td>\n      <td>18820.217559</td>\n    </tr>\n    <tr>\n      <th>6512</th>\n      <td>26495.0</td>\n      <td>21959.954645</td>\n    </tr>\n  </tbody>\n</table>\n<p>760 rows × 2 columns</p>\n</div>"
     },
     "execution_count": 45,
     "metadata": {},
     "output_type": "execute_result"
    }
   ],
   "source": [
    "X_test['price'] = pd.Series(y_test)\n",
    "X_test[['price','price_pred']]"
   ],
   "metadata": {
    "collapsed": false
   }
  },
  {
   "cell_type": "markdown",
   "source": [
    "## Plotting residuals"
   ],
   "metadata": {
    "collapsed": false
   }
  },
  {
   "cell_type": "code",
   "execution_count": 46,
   "outputs": [],
   "source": [
    "test_residuals = y_test - X_test['price_pred']"
   ],
   "metadata": {
    "collapsed": false
   }
  },
  {
   "cell_type": "markdown",
   "source": [
    "In this first graph, we see that the residuals follows a vaguely normal distribution, centred near zero."
   ],
   "metadata": {
    "collapsed": false
   }
  },
  {
   "cell_type": "code",
   "execution_count": 47,
   "outputs": [
    {
     "data": {
      "text/plain": "<Figure size 360x360 with 1 Axes>",
      "image/png": "[encoded data removed]"
     },
     "metadata": {},
     "output_type": "display_data"
    }
   ],
   "source": [
    "sns.displot(test_residuals, bins=50, kde=True)\n",
    "plt.show()"
   ],
   "metadata": {
    "collapsed": false
   }
  },
  {
   "cell_type": "markdown",
   "source": [
    "In this next graph, we can see that our residuals increase at the extremities of our price range. For the rest of the data, the residuals are fairly good - concentrated around zero."
   ],
   "metadata": {
    "collapsed": false
   }
  },
  {
   "cell_type": "code",
   "execution_count": 48,
   "outputs": [
    {
     "data": {
      "text/plain": "<Figure size 432x288 with 1 Axes>",
      "image/png": "[encoded data removed]"
     },
     "metadata": {},
     "output_type": "display_data"
    }
   ],
   "source": [
    "sns.scatterplot(x=y_test,\n",
    "                y=test_residuals)\n",
    "plt.axhline(y=0,\n",
    "            color='r',\n",
    "            ls='--')\n",
    "plt.show()"
   ],
   "metadata": {
    "collapsed": false
   }
  },
  {
   "cell_type": "code",
   "execution_count": 49,
   "outputs": [
    {
     "data": {
      "text/plain": "<Figure size 400x600 with 1 Axes>",
      "image/png": "[encoded data removed]"
     },
     "metadata": {},
     "output_type": "display_data"
    }
   ],
   "source": [
    "fig, ax = plt.subplots(figsize=(4,6), dpi=100)\n",
    "_ = sp.stats.probplot(test_residuals, plot=ax)"
   ],
   "metadata": {
    "collapsed": false
   }
  }
 ],
 "metadata": {
  "kernelspec": {
   "display_name": "Python 3",
   "language": "python",
   "name": "python3"
  },
  "language_info": {
   "codemirror_mode": {
    "name": "ipython",
    "version": 2
   },
   "file_extension": ".py",
   "mimetype": "text/x-python",
   "name": "python",
   "nbconvert_exporter": "python",
   "pygments_lexer": "ipython2",
   "version": "2.7.6"
  }
 },
 "nbformat": 4,
 "nbformat_minor": 0
}
