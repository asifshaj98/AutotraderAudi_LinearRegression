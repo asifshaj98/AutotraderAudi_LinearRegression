{
 "cells": [
  {
   "cell_type": "markdown",
   "metadata": {},
   "source": [
    "<p style=\"text-align:center;\">\n",
    "<img src=\"https://github.com/digital-futures-academy/DataScienceMasterResources/blob/main/Resources/datascience-notebook-header.png?raw=true\"\n",
    "     alt=\"DigitalFuturesLogo\"\n",
    "     style=\"float: center; margin-right: 10px;\" />\n",
    "</p>"
   ]
  },
  {
   "cell_type": "markdown",
   "metadata": {},
   "source": [
    "## Digital Futures Data Science Programme\n",
    "### Linear Regression Team Project - Results Template\n",
    "#### V1\n",
    "\n",
    "## Objective:\n",
    "#### Create pricing function. To allow all 7 projects to be combined, you must stick to this template. "
   ]
  },
  {
   "cell_type": "code",
   "execution_count": 1,
   "metadata": {},
   "outputs": [],
   "source": [
    "## MAKE \n",
    "\n",
    "car_input = {'make': 'xyz',\n",
    "             'model':'xyz',\n",
    "             'year':'xyz',\n",
    "             'writeoff':'xyz',\n",
    "             'mileage':'xyz',\n",
    "             'BHP':'xyz',\n",
    "             'transmission':'xyz',\n",
    "             'fuel':'xyz',\n",
    "             'owners':'xyz',\n",
    "             'body':'xyz',\n",
    "             'ULEZ':'xyz',\n",
    "             'engine':'xyz',\n",
    "             'Condition':'xyz',\n",
    "            }\n"
   ]
  },
  {
   "cell_type": "code",
   "execution_count": 2,
   "outputs": [],
   "source": [
    "import pandas as pd\n",
    "import numpy as np"
   ],
   "metadata": {
    "collapsed": false
   }
  },
  {
   "cell_type": "code",
   "execution_count": 3,
   "outputs": [],
   "source": [
    "def suggest_price__Audi(car_input):\n",
    "\n",
    "    \"\"\"Converting the inputted dictionary into a pandas dataframe, and then applying feature engineering\"\"\"\n",
    "    car_df = pd.DataFrame([car_input])\n",
    "\n",
    "\n",
    "    def feature_eng(data):\n",
    "\n",
    "        \"\"\"Creating a copy of the inputted dataframe\"\"\"\n",
    "        result = data.copy()\n",
    "\n",
    "        \"\"\"Formatting the columns from strings to their proper type\"\"\"\n",
    "        result['year'] = result['year'].astype(int)\n",
    "        result['mileage'] = result['mileage'].astype(float)\n",
    "        result['BHP'] = result['BHP'].astype(float)\n",
    "        result['owners'] = result['owners'].astype(int)\n",
    "        result['engine'] = result['engine'].replace('L', '', regex=True).astype(float)\n",
    "\n",
    "        \"\"\"Dropping unneeded columns\"\"\"\n",
    "        result.drop(columns=['ULEZ','make', 'model', 'Condition','writeoff'], inplace=True)\n",
    "\n",
    "        \"\"\"Adding new columns\"\"\"\n",
    "        result['log_mileage'] = np.log(result['mileage'])\n",
    "        result['log_owners'] = np.log(result['owners'])\n",
    "\n",
    "        result = pd.get_dummies(result, columns=['transmission'], drop_first=False, prefix='gear_type')\n",
    "        result = pd.get_dummies(result, columns=['fuel'], drop_first=False, prefix='fuel_type')\n",
    "        result = pd.get_dummies(result, columns=['body'], drop_first=False, prefix='body_type')\n",
    "\n",
    "        result['const'] = 1.0\n",
    "\n",
    "        return result\n",
    "\n",
    "    car_df_feat = feature_eng(car_df)\n",
    "\n",
    "    \"\"\"Setting the price modifier based on the damage of the car\"\"\"\n",
    "    modifier = 0.8\n",
    "    if car_input['Condition'] == 'Moderate damage':\n",
    "        modifier = 0.5\n",
    "    elif car_input['Condition'] == 'Heavily damage':\n",
    "        modifier = 0.3\n",
    "\n",
    "    \"\"\"Constructing a dictionary of coefficients for the various features in our model\"\"\"\n",
    "    parameters = {'year'                  : 1.134488e+03,\n",
    "                  'const'                 :-1.499547e+06,\n",
    "                  'BHP'                   : 4.208970e+01,\n",
    "                  'log_mileage'           :-2.841232e+03,\n",
    "                  'body_type_SUV'         : 2.398625e+03,\n",
    "                  'gear_type_Automatic'   :-7.488307e+05,\n",
    "                  'gear_type_Manual'      :-7.507164e+05,\n",
    "                  'engine'                : 1.585720e+03,\n",
    "                  'body_type_Estate'      : 8.165405e+02,\n",
    "                  'mileage'               :-1.500031e-02,\n",
    "                  'body_type_Coupe'       :-4.578385e+02,\n",
    "\n",
    "                  'owners'                           : 0,\n",
    "                  'log_owners'                       : 0,\n",
    "                  'fuel_type_Diesel'                 : 0,\n",
    "                  'fuel_type_Petrol'                 : 0,\n",
    "                  'fuel_type_Petrol Plug-in Hybrid'  : 0,\n",
    "                  'body_type_Convertible'            : 0,\n",
    "                  'body_type_Hatchback'              : 0,\n",
    "                  'body_type_Saloon'                 : 0,\n",
    "                  }\n",
    "\n",
    "    \"\"\"Setting the price of the car as equal to £0\"\"\"\n",
    "    base_price = 0\n",
    "    \"\"\"Updating the price by looping through the columns in our dataframe, and multiplying those values by the coefficients in the parameters dictionary\"\"\"\n",
    "    for column in car_df_feat.columns:\n",
    "        base_price += parameters[column] * car_df_feat.loc[0, column]\n",
    "\n",
    "    \"Calculating our suggested price, based on the damage to the vehicle\"\n",
    "    Suggested_Price = base_price * modifier\n",
    "\n",
    "    if Suggested_Price <= 0:\n",
    "        return f\"We have valued your car at £{Suggested_Price}. As such, we are not willing to pay for it.\"\n",
    "\n",
    "    return Suggested_Price"
   ],
   "metadata": {
    "collapsed": false
   }
  }
 ],
 "metadata": {
  "kernelspec": {
   "display_name": "Python 3",
   "language": "python",
   "name": "python3"
  },
  "language_info": {
   "codemirror_mode": {
    "name": "ipython",
    "version": 3
   },
   "file_extension": ".py",
   "mimetype": "text/x-python",
   "name": "python",
   "nbconvert_exporter": "python",
   "pygments_lexer": "ipython3",
   "version": "3.8.5"
  }
 },
 "nbformat": 4,
 "nbformat_minor": 4
}
